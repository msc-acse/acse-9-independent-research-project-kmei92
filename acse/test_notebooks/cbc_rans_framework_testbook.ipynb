{
 "cells": [
  {
   "cell_type": "code",
   "execution_count": 3,
   "metadata": {},
   "outputs": [],
   "source": [
    "import sys\n",
    "sys.path.insert(0, '../../cbc.rans/cbc')"
   ]
  },
  {
   "cell_type": "code",
   "execution_count": 4,
   "metadata": {},
   "outputs": [
    {
     "ename": "SyntaxError",
     "evalue": "invalid syntax (PDESubSystems.py, line 160)",
     "output_type": "error",
     "traceback": [
      "Traceback \u001b[0;36m(most recent call last)\u001b[0m:\n",
      "  File \u001b[1;32m\"/home/kmei/anaconda3/envs/fenicsproject/lib/python3.7/site-packages/IPython/core/interactiveshell.py\"\u001b[0m, line \u001b[1;32m3296\u001b[0m, in \u001b[1;35mrun_code\u001b[0m\n    exec(code_obj, self.user_global_ns, self.user_ns)\n",
      "  File \u001b[1;32m\"<ipython-input-4-a49875477062>\"\u001b[0m, line \u001b[1;32m1\u001b[0m, in \u001b[1;35m<module>\u001b[0m\n    from pdesys import *\n",
      "\u001b[0;36m  File \u001b[0;32m\"../../cbc.rans/cbc/pdesys/__init__.py\"\u001b[0;36m, line \u001b[0;32m1\u001b[0;36m, in \u001b[0;35m<module>\u001b[0;36m\u001b[0m\n\u001b[0;31m    from PDESubSystems import *\u001b[0m\n",
      "\u001b[0;36m  File \u001b[0;32m\"../../cbc.rans/cbc/pdesys/PDESubSystems.py\"\u001b[0;36m, line \u001b[0;32m160\u001b[0m\n\u001b[0;31m    print 'time ', self.name, ' ', time()-t0\u001b[0m\n\u001b[0m                ^\u001b[0m\n\u001b[0;31mSyntaxError\u001b[0m\u001b[0;31m:\u001b[0m invalid syntax\n"
     ]
    }
   ],
   "source": [
    "from pdesys import *"
   ]
  },
  {
   "cell_type": "code",
   "execution_count": null,
   "metadata": {},
   "outputs": [],
   "source": []
  },
  {
   "cell_type": "code",
   "execution_count": null,
   "metadata": {},
   "outputs": [],
   "source": [
    "# # Test for PETSc or Epetra\n",
    "# if not has_la_backend(\"PETSc\") and not has_la_backend(\"Epetra\"):\n",
    "#     info_red(\"DOLFIN has not been configured with Trilinos or PETSc. Exiting.\")\n",
    "#     exit()\n",
    "\n",
    "# info_green(\"This demo is unlikely to converge if PETSc is not configured with Hypre or ML.\")\n",
    "\n",
    "# Boundaries\n",
    "def right(x, on_boundary): return x[0] > (1.0 - DOLFIN_EPS)\n",
    "def left(x, on_boundary): return x[0] < DOLFIN_EPS\n",
    "def top_bottom(x, on_boundary):\n",
    "    return x[1] > 1.0 - DOLFIN_EPS or x[1] < DOLFIN_EPS\n",
    "        \n",
    "class Stokes_Solver(PDESystem):\n",
    "    \n",
    "    def __init__(self, mesh, parameters=parameters):\n",
    "        PDESystem.__init__(self, [['u', 'p']], mesh, parameters)\n",
    "        self.setup() # Create functionspaces, trial/testfunctions and solution functions\n",
    "        \n",
    "        self.f = Constant((0.0, 0.0, 0.0))\n",
    "        \n",
    "        # Set up boundary conditions.\n",
    "        inflow = Expression((\"-sin(x[1]*pi)\", \"0.0\", \"0.0\"))\n",
    "        noslip = Constant((0.0, 0.0, 0.0))\n",
    "        zero = Constant(0)\n",
    "        self.bc['up'] = [DirichletBC(self.V['up'].sub(0), noslip, top_bottom),\n",
    "                         DirichletBC(self.V['up'].sub(0), inflow, right),\n",
    "                         DirichletBC(self.V['up'].sub(1), zero, left)] \n",
    "        \n",
    "        # Set up variational problem\n",
    "        self.define()\n",
    "        \n",
    "    def define(self):\n",
    "        name = 'Stokes_' + str(self.prm['pdesubsystem']['up'])\n",
    "        self.pdesubsystems['up'] = eval(name)(vars(self), ['u', 'p'], \n",
    "                                               bcs=self.bc['up'])\n",
    "                        \n",
    "class Stokes_1(PDESubSystem):\n",
    "    \"\"\"Variational form of the Stokes problem.\"\"\"\n",
    "    def form(self, u, u_, v_u, p, p_, v_p, f, **kwargs):\n",
    "        self.prm['assemble_system'] = True # Assemble symmetric system with assemble_system\n",
    "        return inner(grad(u), grad(v_u))*dx + div(v_u)*p*dx + v_p*div(u)*dx \\\n",
    "               - inner(f, v_u)*dx\n",
    "                       \n",
    "    def get_precond(self, u, v_u, p, v_p, f, **kwargs):\n",
    "        # Form for use in constructing preconditioner matrix\n",
    "        b = inner(grad(u), grad(v_u))*dx + p*v_p*dx\n",
    "        L = inner(f, v_u)*dx\n",
    "        \n",
    "        # Assemble preconditioner system. B is hooked up in setup_solver\n",
    "        B, dummy = assemble_system(b, L, self.bcs)\n",
    "        \n",
    "        return B"
   ]
  },
  {
   "cell_type": "code",
   "execution_count": null,
   "metadata": {},
   "outputs": [],
   "source": []
  }
 ],
 "metadata": {
  "kernelspec": {
   "display_name": "Python 3",
   "language": "python",
   "name": "python3"
  },
  "language_info": {
   "codemirror_mode": {
    "name": "ipython",
    "version": 3
   },
   "file_extension": ".py",
   "mimetype": "text/x-python",
   "name": "python",
   "nbconvert_exporter": "python",
   "pygments_lexer": "ipython3",
   "version": "3.6.8"
  }
 },
 "nbformat": 4,
 "nbformat_minor": 2
}
