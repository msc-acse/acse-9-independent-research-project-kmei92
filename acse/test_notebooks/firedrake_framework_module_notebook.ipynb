{
 "cells": [
  {
   "cell_type": "markdown",
   "metadata": {},
   "source": [
    "# PDE Examples"
   ]
  },
  {
   "cell_type": "code",
   "execution_count": 1,
   "metadata": {},
   "outputs": [],
   "source": [
    "import sys\n",
    "sys.path.append(\"..\")\n",
    "from fireframe.ff.PDESystem import *\n",
    "from fireframe.ff.PDESubsystem import *\n",
    "\n",
    "\n",
    "%load_ext autoreload\n",
    "%autoreload 2"
   ]
  },
  {
   "cell_type": "code",
   "execution_count": null,
   "metadata": {},
   "outputs": [],
   "source": [
    "class pde_solver(PDESystem):\n",
    "    def __init__(self, comp, mesh, parameters):\n",
    "        PDESystem.__init__(self, comp, mesh, parameters)\n",
    "\n",
    "    def setup_bcs(self):\n",
    "        x, y = fd.SpatialCoordinate(self.mesh)\n",
    "        \n",
    "        bcu = [fd.DirichletBC(self.V['u'], fd.Constant((0,0)), (1, 4)), # top-bottom and cylinder\n",
    "          fd.DirichletBC(self.V['u'], ((4.0*1.5*y*(0.41 - y) / 0.41**2) ,0), 2)] # inflow\n",
    "        bcp = [fd.DirichletBC(self.V['p'], fd.Constant(0), 3)]  # outflow\n",
    "        \n",
    "        self.bc['up'] = [bcu, bcp, None]\n",
    "        self.bc['c'] = [None]\n",
    "        \n",
    "    def define(self, name, var_seq, bcs, forms_cnt):\n",
    "        self.pdesubsystems[name] = self.subsystem[name](vars(self), var_seq, name, bcs, forms_cnt)\n",
    "\n",
    "\n",
    "class navier_stokes(PDESubsystem):\n",
    "        \n",
    "    def form1(self, u_trl, u_tst, u_n, p_n, **kwargs):\n",
    "        n = fd.FacetNormal(self.mesh)\n",
    "        k = fd.Constant(self.prm['dt'])\n",
    "        f = fd.Constant((0.0, 0.0))\n",
    "        nu = fd.Constant(0.001)\n",
    "        \n",
    "        def sigma(u, p):\n",
    "            return 2*nu*fd.sym(fd.nabla_grad(u)) - p*fd.Identity(len(u))\n",
    "\n",
    "        u_mid = 0.5 * (u_n + u_trl)\n",
    "\n",
    "        Form = fd.inner((u_trl - u_n)/k, u_tst) * fd.dx \\\n",
    "        + fd.inner(fd.dot(u_n, fd.nabla_grad(u_mid)), u_tst) * fd.dx \\\n",
    "        + fd.inner(sigma(u_mid, p_n), fd.sym(fd.nabla_grad(u_tst))) * fd.dx \\\n",
    "        + fd.inner(p_n * n, u_tst) * fd.ds \\\n",
    "        - fd.inner(nu * fd.dot(fd.nabla_grad(u_mid), n), u_tst) * fd.ds \\\n",
    "        - fd.inner(f, u_tst) * fd.dx\n",
    "        return Form\n",
    "    \n",
    "    def form2(self, p_trl, p_tst, p_n, u_, **kwargs):\n",
    "        k = fd.Constant(self.prm['dt'])\n",
    "\n",
    "        Form = fd.inner(fd.nabla_grad(p_trl), fd.nabla_grad(p_tst)) * fd.dx \\\n",
    "        - fd.inner(fd.nabla_grad(p_n), fd.nabla_grad(p_tst)) * fd.dx \\\n",
    "        + (1/k) * fd.inner(fd.div(u_), p_tst) * fd.dx\n",
    "        \n",
    "        return Form\n",
    "    \n",
    "    def form3(self, u_trl, u_tst, u_, p_n, p_, **kwargs):\n",
    "        k = fd.Constant(self.prm['dt'])\n",
    "\n",
    "        Form = fd.inner(u_trl, u_tst) * fd.dx \\\n",
    "        - fd.inner(u_, u_tst) * fd.dx \\\n",
    "        + k * fd.inner(fd.nabla_grad(p_ - p_n), u_tst) * fd.dx\n",
    "        \n",
    "        return Form\n",
    "\n",
    "class reactions(PDESubsystem):\n",
    "    \n",
    "    def form1(self, c_1, c_n1, c_tst1, c_2, c_n2, c_tst2, c_3, c_n3, c_tst3, u_, **kwargs):\n",
    "        eps = fd.Constant(0.01)\n",
    "        K = fd.Constant(10.0)\n",
    "        k = fd.Constant(self.prm['dt'])\n",
    "        \n",
    "        x, y = fd.SpatialCoordinate(self.mesh)\n",
    "        f_1 = fd.conditional(pow(x-0.1, 2)+pow(y-0.1,2)<0.05*0.05, 0.1, 0)\n",
    "        f_2 = fd.conditional(pow(x-0.1, 2)+pow(y-0.3,2)<0.05*0.05, 0.1, 0)\n",
    "        f_3 = fd.Constant(0.0)\n",
    "        \n",
    "        Form = ((c_1 - c_n1) / k)*c_tst1*fd.dx \\\n",
    "        + ((c_2 - c_n2) / k)*c_tst2*fd.dx \\\n",
    "        + ((c_3 - c_n3) / k)*c_tst3*fd.dx \\\n",
    "        + fd.inner(fd.dot(u_, fd.nabla_grad(c_1)), c_tst1)*fd.dx \\\n",
    "        + fd.inner(fd.dot(u_, fd.nabla_grad(c_2)), c_tst2)*fd.dx \\\n",
    "        + fd.inner(fd.dot(u_, fd.nabla_grad(c_3)), c_tst3)*fd.dx \\\n",
    "        + eps*fd.dot(fd.grad(c_1), fd.grad(c_tst1))*fd.dx \\\n",
    "        + eps*fd.dot(fd.grad(c_2), fd.grad(c_tst2))*fd.dx \\\n",
    "        + eps*fd.dot(fd.grad(c_3), fd.grad(c_tst3))*fd.dx \\\n",
    "        + K*c_1*c_2*c_tst1*fd.dx  \\\n",
    "        + K*c_1*c_2*c_tst2*fd.dx  \\\n",
    "        - K*c_1*c_2*c_tst3*fd.dx \\\n",
    "        + K*c_3*c_tst3*fd.dx \\\n",
    "        - f_1*c_tst1*fd.dx \\\n",
    "        - f_2*c_tst2*fd.dx \\\n",
    "        - f_3*c_tst3*fd.dx\n",
    "        \n",
    "        return Form\n",
    "\n",
    "\n",
    "mesh = fd.Mesh(\"../meshes/flow_past_cylinder.msh\")\n",
    "\n",
    "solver_parameters  = copy.deepcopy(default_solver_parameters)\n",
    "solver_parameters = recursive_update(solver_parameters, \n",
    "{\n",
    "'space': {'u': fd.VectorFunctionSpace},\n",
    "'degree': {'u': 2},             \n",
    "'order' : {'u': 1},\n",
    "'linear_solver': {'up': 'gmres'},\n",
    "'subsystem_class' : {'up': navier_stokes},\n",
    "'precond': {'up': 'sor'}}\n",
    ")\n",
    "# print(solver_parameters)\n",
    "\n",
    "solver = pde_solver([['u', 'p']], mesh, solver_parameters)\n",
    "solver.setup_bcs()\n",
    "solver.define('up', ['u', 'p', 'u'], solver.bc['up'], 3)\n",
    "print(solver.pdesubsystems)\n",
    "# print(solver_parameters)\n",
    "solver_parameters = recursive_update(solver_parameters,\n",
    "{\n",
    "    'space': {'c': fd.MixedFunctionSpace},\n",
    "    'degree': {'c': 1},\n",
    "    'order' : {'c' : 3},\n",
    "    'linear_solver': {'c': 'gmres'},\n",
    "    'subsystem_class' : {'c' : reactions},\n",
    "    'precond': {'c': 'sor'}\n",
    "})\n",
    "# # print(solver_parameters)\n",
    "solver.add_subsystem('c', solver_parameters)\n",
    "print(vars(solver))\n",
    "solver.setup_bcs()\n",
    "solver.define('up', ['u', 'p', 'u'], solver.bc['up'], 3)\n",
    "solver.define('c', ['c'], solver.bc['c'], 1)\n",
    "print(solver.pdesubsystems)\n",
    "# print(vars(solver))\n"
   ]
  },
  {
   "cell_type": "code",
   "execution_count": null,
   "metadata": {},
   "outputs": [],
   "source": [
    "solver.solve()\n",
    "fig1 = plt.figure(figsize=(12, 4))\n",
    "ax1 = fig1.add_subplot(111)\n",
    "fd.plot(mesh, axes=ax1)\n",
    "\n",
    "fig2 = plt.figure(figsize=(16, 2.5))\n",
    "ax2 = fig2.add_subplot(111)\n",
    "ax2.set_xlabel('$x$', fontsize=16)\n",
    "ax2.set_ylabel('$y$', fontsize=16)\n",
    "ax2.set_title('FEM Navier-Stokes - channel flow - pressure', fontsize=16)\n",
    "fd.plot(solver.form_args['p_'],axes=ax2)\n",
    "ax2.axis('equal')\n",
    "\n",
    "fig3 = plt.figure(figsize=(16, 2.5))\n",
    "ax3 = fig3.add_subplot(111)\n",
    "ax3.set_xlabel('$x$', fontsize=16)\n",
    "ax3.set_ylabel('$y$', fontsize=16)\n",
    "ax3.set_title('FEM Navier-Stokes - channel flow - velocity', fontsize=16)\n",
    "fd.plot(solver.form_args['u_'],axes=ax3)\n",
    "ax3.axis('equal');\n"
   ]
  },
  {
   "cell_type": "code",
   "execution_count": null,
   "metadata": {},
   "outputs": [],
   "source": [
    "c1, c2, c3 = solver.form_args['c_'].split()\n",
    "\n",
    "fig3 = plt.figure(figsize=(16, 2.5))\n",
    "ax3 = fig3.add_subplot(111)\n",
    "ax3.set_xlabel('$x$', fontsize=16)\n",
    "ax3.set_ylabel('$y$', fontsize=16)\n",
    "ax3.set_title('FEM Navier-Stokes - channel flow - conc1', fontsize=16)\n",
    "fd.plot(c1,axes=ax3)\n",
    "ax3.axis('equal');\n",
    "\n",
    "fig3 = plt.figure(figsize=(16, 2.5))\n",
    "ax3 = fig3.add_subplot(111)\n",
    "ax3.set_xlabel('$x$', fontsize=16)\n",
    "ax3.set_ylabel('$y$', fontsize=16)\n",
    "ax3.set_title('FEM Navier-Stokes - channel flow - conc2', fontsize=16)\n",
    "fd.plot(c2,axes=ax3)\n",
    "ax3.axis('equal');\n",
    "\n",
    "fig3 = plt.figure(figsize=(16, 2.5))\n",
    "ax3 = fig3.add_subplot(111)\n",
    "ax3.set_xlabel('$x$', fontsize=16)\n",
    "ax3.set_ylabel('$y$', fontsize=16)\n",
    "ax3.set_title('FEM Navier-Stokes - channel flow - conc3', fontsize=16)\n",
    "fd.plot(c3,axes=ax3)\n",
    "ax3.axis('equal');"
   ]
  },
  {
   "cell_type": "code",
   "execution_count": null,
   "metadata": {},
   "outputs": [],
   "source": [
    "print(solver.form_args)"
   ]
  },
  {
   "cell_type": "code",
   "execution_count": null,
   "metadata": {},
   "outputs": [],
   "source": [
    "h = 3\n",
    "x = [1, 2, 3]\n",
    "z = {}\n",
    "\n",
    "z.update(dict(('id%i'%n, x[n]) for n in range(h)))\n",
    "print(z)\n",
    "fd.split?"
   ]
  },
  {
   "cell_type": "code",
   "execution_count": null,
   "metadata": {},
   "outputs": [],
   "source": [
    "x = [['u', 'p']]\n",
    "y = ['c']\n",
    "\n",
    "if not isinstance(y, list):\n",
    "    print('entered')\n",
    "    temp = []\n",
    "    temp.append(y)\n",
    "    y = temp\n",
    "else:\n",
    "    pass\n",
    "print(y)\n",
    "print(x)\n",
    "\n",
    "z = []\n",
    "z.append(x)\n",
    "print(z)\n",
    "for i in range(1):\n",
    "    print(y[i])"
   ]
  },
  {
   "cell_type": "code",
   "execution_count": null,
   "metadata": {},
   "outputs": [],
   "source": [
    "class bar:\n",
    "    def __init__(self, x, y):\n",
    "        self.x = x\n",
    "        self.y = y\n",
    "        \n",
    "    def reset(self, x, y):\n",
    "        self.__init__(x, y)\n",
    "        \n",
    "class foo(bar):\n",
    "    def __init__(self, x):\n",
    "        bar.__init__(self, x, 10)\n",
    "    \n",
    "    def add(self):\n",
    "        self.x += 1\n",
    "\n",
    "\n",
    "x = foo(5)\n",
    "print(x.x)\n",
    "x.add()\n",
    "print(x.x)\n",
    "print(x.y)\n",
    "x.reset(10, 5)\n",
    "print(x.x)"
   ]
  },
  {
   "cell_type": "code",
   "execution_count": null,
   "metadata": {},
   "outputs": [],
   "source": [
    "class navier_stokes(PDESubsystem):\n",
    "        \n",
    "    def form1(self, u_trl, u_tst, u_n, p_n, n, k, f, nu, **kwargs):\n",
    "#         n = fd.FacetNormal(self.mesh)\n",
    "#         k = fd.Constant(self.prm['dt'])\n",
    "#         f = fd.Constant((0.0, 0.0))\n",
    "#         nu = fd.Constant(0.001)\n",
    "        \n",
    "        def sigma(u, p):\n",
    "            return 2*nu*fd.sym(fd.nabla_grad(u)) - p*fd.Identity(len(u))\n",
    "\n",
    "        u_mid = 0.5 * (u_n + u_trl)\n",
    "\n",
    "        Form = fd.inner((u_trl - u_n)/k, u_tst) * fd.dx \\\n",
    "        + fd.inner(fd.dot(u_n, fd.nabla_grad(u_mid)), u_tst) * fd.dx \\\n",
    "        + fd.inner(sigma(u_mid, p_n), fd.sym(fd.nabla_grad(u_tst))) * fd.dx \\\n",
    "        + fd.inner(p_n * n, u_tst) * fd.ds \\\n",
    "        - fd.inner(nu * fd.dot(fd.nabla_grad(u_mid), n), u_tst) * fd.ds \\\n",
    "        - fd.inner(f, u_tst) * fd.dx\n",
    "        return Form\n",
    "    \n",
    "    def form2(self, p_trl, p_tst, p_n, u_, k, **kwargs):\n",
    "#         k = fd.Constant(self.prm['dt'])\n",
    "\n",
    "        Form = fd.inner(fd.nabla_grad(p_trl), fd.nabla_grad(p_tst)) * fd.dx \\\n",
    "        - fd.inner(fd.nabla_grad(p_n), fd.nabla_grad(p_tst)) * fd.dx \\\n",
    "        + (1/k) * fd.inner(fd.div(u_), p_tst) * fd.dx\n",
    "        \n",
    "        return Form\n",
    "    \n",
    "    def form3(self, u_trl, u_tst, u_, p_n, p_, k, **kwargs):\n",
    "#         k = fd.Constant(self.prm['dt'])\n",
    "\n",
    "        Form = fd.inner(u_trl, u_tst) * fd.dx \\\n",
    "        - fd.inner(u_, u_tst) * fd.dx \\\n",
    "        + k * fd.inner(fd.nabla_grad(p_ - p_n), u_tst) * fd.dx\n",
    "        \n",
    "        return Form\n",
    "    \n",
    "class radio_transport(PDESubsystem):\n",
    "    \n",
    "    def form1(self, cd_1, cd_n1, cd_tst1, cd_2, cd_n2, cd_tst2, as_1, cs_1, as_2, cs_2, u_, \n",
    "              k, Kd, k1, k2, lamd1, lamd2, rho_s, L, phi, frac, **kwargs):\n",
    "#         k = fd.Constant(self.prm['dt'])\n",
    "#         Kd = fd.Constant(10.0)\n",
    "#         k1 = fd.Constant(0.5)\n",
    "#         k2 = fd.Constant(0.01)\n",
    "#         lamd1 = fd.Constant(0.1)\n",
    "#         lamd2 = fd.Constant(0.)\n",
    "#         rho_s = fd.Constant(1.)\n",
    "#         L =  fd.Constant(1.)\n",
    "#         phi = fd.Constant(1.)\n",
    "#         f = fd.Constant(1.)\n",
    "#         x, y = fd.SpatialCoordinate(self.mesh)\n",
    "#         source = fd.conditional(x < 0.1, 0.5, 0)\n",
    "\n",
    "        Form = ((cd_1 - cd_n1) / k)*cd_tst1*fd.dx \\\n",
    "        + fd.inner(fd.dot(u_, fd.nabla_grad(cd_1)), cd_tst1)*fd.dx \\\n",
    "        + Kd*fd.dot(fd.grad(cd_1), fd.grad(cd_tst1))*fd.dx \\\n",
    "        + k1*cd_1*cd_tst1*fd.dx \\\n",
    "        - k2*cs_1*cd_tst1*fd.dx \\\n",
    "        - k2*as_1*L*rho_s*frac*phi*cd_tst1*fd.dx \\\n",
    "        + lamd1*cd_1*cd_tst1*fd.dx \\\n",
    "        + ((cd_2 - cd_n2) / k)*cd_tst2*fd.dx \\\n",
    "        + fd.inner(fd.dot(u_, fd.nabla_grad(cd_2)), cd_tst2)*fd.dx \\\n",
    "        + Kd*fd.dot(fd.grad(cd_2), fd.grad(cd_tst2))*fd.dx \\\n",
    "        + k1*cd_2*cd_tst2*fd.dx \\\n",
    "        - k2*cs_2*cd_tst2*fd.dx \\\n",
    "        - k2*as_2*L*rho_s*frac*phi*cd_tst2*fd.dx \\\n",
    "        + lamd2*cd_2*cd_tst2*fd.dx \\\n",
    "        - lamd1*cd_1*cd_tst2*fd.dx\n",
    "#         -source*cd_tst1*fd.dx \\\n",
    "      \n",
    "        \n",
    "        return Form\n",
    "    \n",
    "    def form2(self, cs_1, cs_n1, cs_tst1, cs_2, cs_n2, cs_tst2, cd_1, cd_2, u_, \n",
    "              k, Kd, k1, k2, lamd1, lamd2, **kwargs):\n",
    "#         k = fd.Constant(self.prm['dt'])\n",
    "#         Kd = fd.Constant(10.0)\n",
    "#         k1 = fd.Constant(0.5)\n",
    "#         k2 = fd.Constant(0.01)\n",
    "#         lamd1 = fd.Constant(0.1)\n",
    "#         lamd2 = fd.Constant(0.)\n",
    "        \n",
    "        Form = ((cs_1 - cs_n1) / k)*cs_tst1*fd.dx \\\n",
    "        + fd.inner(fd.dot(u_, fd.nabla_grad(cs_1)), cs_tst1)*fd.dx \\\n",
    "        + Kd*fd.dot(fd.grad(cs_1), fd.grad(cs_tst1))*fd.dx \\\n",
    "        - k1*cd_1*cs_tst1*fd.dx \\\n",
    "        + k2*cs_1*cs_tst1*fd.dx \\\n",
    "        + lamd1*cs_1*cs_tst1*fd.dx \\\n",
    "        + ((cs_2 - cs_n2) / k)*cs_tst2*fd.dx \\\n",
    "        + fd.inner(fd.dot(u_, fd.nabla_grad(cs_2)), cs_tst2)*fd.dx \\\n",
    "        + Kd*fd.dot(fd.grad(cs_2), fd.grad(cs_tst2))*fd.dx \\\n",
    "        - k1*cd_2*cs_tst2*fd.dx \\\n",
    "        + k2*cs_2*cs_tst2*fd.dx \\\n",
    "        + lamd2*cs_2*cs_tst2*fd.dx \\\n",
    "        - lamd1*cs_1*cs_tst2*fd.dx\n",
    "        \n",
    "        return Form\n",
    "        \n",
    "    \n",
    "    def form3(self, as_1, as_n1, as_tst1, as_2, as_n2, as_tst2, cd_1, cd_2, k, k1, k2, lamd1,\n",
    "              lamd2, rho_s, L, frac, phi, **kwargs):\n",
    "#         k = fd.Constant(self.prm['dt'])\n",
    "#         k1 = fd.Constant(0.5)\n",
    "#         k2 = fd.Constant(0.01)\n",
    "#         lamd1 = fd.Constant(0.1)\n",
    "#         lamd2 = fd.Constant(0.)\n",
    "#         rho_s = fd.Constant(1.)\n",
    "#         L =  fd.Constant(1.)\n",
    "#         f = fd.Constant(1.)\n",
    "#         phi = fd.Constant(1.)\n",
    "        \n",
    "        Form = ((as_1 - as_n1) / k)*as_tst1*fd.dx \\\n",
    "        - (1./(L * rho_s * frac)) * k1*cd_1*as_tst1*fd.dx \\\n",
    "        + k2*as_1*phi*as_tst1*fd.dx \\\n",
    "        + lamd1*as_1*as_tst1*fd.dx \\\n",
    "        +((as_2 - as_n2) / k)*as_tst2*fd.dx \\\n",
    "        - (1./(L * rho_s * frac)) * k1*cd_2*as_tst2*fd.dx \\\n",
    "        + k2*as_2*phi*as_tst2*fd.dx \\\n",
    "        + lamd2*as_2*as_tst2*fd.dx \\\n",
    "        - lamd1*as_1*as_tst2*fd.dx\n",
    "        \n",
    "        return Form\n",
    "\n",
    "class pde_solver(PDESystem):\n",
    "    def __init__(self, comp, mesh, parameters):\n",
    "        PDESystem.__init__(self, comp, mesh, parameters)\n",
    "        \n",
    "    def setup_bcs(self):\n",
    "        x, y = fd.SpatialCoordinate(self.mesh)\n",
    "        \n",
    "        bcu = [fd.DirichletBC(self.V['u'], fd.Constant((0,0)), (10, 12)), # top-bottom and cylinder\n",
    "          fd.DirichletBC(self.V['u'], ((1.0*(y - 1)*(2 - y))/(0.5**2) ,0), 9)] # inflow\n",
    "        bcp = [fd.DirichletBC(self.V['p'], fd.Constant(0), 11)]  # outflow\n",
    "        \n",
    "        self.bc['up'] = [bcu, bcp, None]\n",
    "        self.bc['cdcsas'] = [None, None, None]\n",
    "        \n",
    "    def setup_constants(self):\n",
    "        self.constants = { \n",
    "            'k' : fd.Constant(self.prm['dt']),\n",
    "            'Kd' : fd.Constant(0.01),\n",
    "            'k1' : fd.Constant(0.5),\n",
    "            'k2' : fd.Constant(0.01),\n",
    "            'lamd1' : fd.Constant(1.5),\n",
    "            'lamd2' : fd.Constant(0.),\n",
    "            'rho_s' : fd.Constant(1.),\n",
    "            'L' :  fd.Constant(1.),\n",
    "            'phi' : fd.Constant(0.3),\n",
    "            'f' : fd.Constant(1.),\n",
    "            'n' : fd.FacetNormal(self.mesh),\n",
    "            'f' : fd.Constant((0.0, 0.0)),\n",
    "            'nu' : fd.Constant(0.001),\n",
    "            'frac' : fd.Constant(1.)\n",
    "        }\n",
    "        \n",
    "    def setup_initial(self, var, expression, mixedspace=False, **kwargs):\n",
    "        \"\"\"\n",
    "        **kwargs\n",
    "            index: the specific subspace of the MixedFunctionSpace to apply the initial condition\n",
    "        \"\"\"\n",
    "        if not mixedspace:\n",
    "            self.form_args[var].interpolate(expression)\n",
    "        else:\n",
    "            split = self.form_args[var].split()\n",
    "            split[kwargs['index']].interpolate(expression)\n",
    "            \n",
    "    def define(self, var_seq, name):\n",
    "        self.pdesubsystems[name] = self.subsystem[name](vars(self), var_seq, name, self.constants,\n",
    "                                                        self.bc[name])"
   ]
  },
  {
   "cell_type": "code",
   "execution_count": null,
   "metadata": {},
   "outputs": [],
   "source": [
    "mesh = fd.Mesh(\"../meshes/step.msh\")\n",
    "fig1 = plt.figure(figsize=(32, 16))\n",
    "ax1 = fig1.add_subplot(111)\n",
    "fd.plot(mesh, axes=ax1)"
   ]
  },
  {
   "cell_type": "code",
   "execution_count": null,
   "metadata": {},
   "outputs": [],
   "source": [
    "solver_parameters  = copy.deepcopy(default_solver_parameters)\n",
    "solver_parameters = recursive_update(solver_parameters, \n",
    "{\n",
    "'space': {'u': fd.VectorFunctionSpace},\n",
    "'degree': {'u': 2},             \n",
    "'order' : {'u': 1},\n",
    "'linear_solver': {'u': 'gmres', 'p': 'gmres'},\n",
    "'subsystem_class' : {'up': navier_stokes},\n",
    "'precond': {'u': 'sor', 'p' : 'sor'}}\n",
    ")\n",
    "\n",
    "solver = pde_solver([['u', 'p']], mesh, solver_parameters)\n",
    "\n",
    "solver_parameters = recursive_update(solver_parameters,\n",
    "{\n",
    "    'space': {'cs': fd.MixedFunctionSpace, 'cd' : fd.MixedFunctionSpace, 'as' : fd.MixedFunctionSpace},\n",
    "    'degree': {'cs': 1, 'cd' : 1, 'as' : 1},\n",
    "    'order' : {'cs' : 2, 'cd' : 2, 'as' : 2, 'cdcsas' : 2},\n",
    "    'linear_solver': {'cs': 'gmres', 'cd': 'gmres', 'as': 'gmres'},\n",
    "    'subsystem_class' : {'cdcsas' : radio_transport},\n",
    "    'precond': {'cs': 'sor', 'cd': 'sor', 'as': 'sor'}\n",
    "})\n",
    "# # # print(solver_parameters)\n",
    "solver.add_subsystem(['cd', 'cs', 'as'], solver_parameters)\n",
    "k = fd.Constant(30)\n",
    "solver.setup_bcs()\n",
    "solver.setup_constants()\n",
    "solver.define(['u', 'p', 'u'], 'up')\n",
    "# # print(solver.pdesubsystems['up'].prm)\n",
    "solver.define(['cd', 'cs', 'as'], 'cdcsas')\n",
    "# print(vars(solver))\n",
    "\n",
    "# set up initial condition\n",
    "x, y = fd.SpatialCoordinate(mesh)\n",
    "c = fd.conditional(pow(x-1, 2)+pow(y-1.5,2)<0.05*0.05, 10, 0)\n",
    "\n",
    "solver.setup_initial('cd_n', c, mixedspace=True, index=0)\n",
    "\n",
    "cd1, cd2 = solver.form_args['cd_n'].split()\n",
    "cs1, cs2 = solver.form_args['cs_'].split()\n",
    "as1, as2 = solver.form_args['as_'].split()\n",
    "\n",
    "fig3 = plt.figure(figsize=(16, 2.5))\n",
    "ax3 = fig3.add_subplot(111)\n",
    "ax3.set_xlabel('$x$', fontsize=16)\n",
    "ax3.set_ylabel('$y$', fontsize=16)\n",
    "ax3.set_title('FEM Navier-Stokes - channel flow - dissolved1', fontsize=16)\n",
    "fd.plot(cd1,axes=ax3)\n",
    "ax3.axis('equal');\n",
    "\n",
    "fig3 = plt.figure(figsize=(16, 2.5))\n",
    "ax3 = fig3.add_subplot(111)\n",
    "ax3.set_xlabel('$x$', fontsize=16)\n",
    "ax3.set_ylabel('$y$', fontsize=16)\n",
    "ax3.set_title('FEM Navier-Stokes - channel flow - suspended1', fontsize=16)\n",
    "fd.plot(cs1,axes=ax3)\n",
    "ax3.axis('equal');\n",
    "\n",
    "fig3 = plt.figure(figsize=(16, 2.5))\n",
    "ax3 = fig3.add_subplot(111)\n",
    "ax3.set_xlabel('$x$', fontsize=16)\n",
    "ax3.set_ylabel('$y$', fontsize=16)\n",
    "ax3.set_title('FEM Navier-Stokes - channel flow - sediment1', fontsize=16)\n",
    "fd.plot(as1,axes=ax3)\n",
    "ax3.axis('equal');\n",
    "\n",
    "fig3 = plt.figure(figsize=(16, 2.5))\n",
    "ax3 = fig3.add_subplot(111)\n",
    "ax3.set_xlabel('$x$', fontsize=16)\n",
    "ax3.set_ylabel('$y$', fontsize=16)\n",
    "ax3.set_title('FEM Navier-Stokes - channel flow - dissolved2', fontsize=16)\n",
    "fd.plot(cd2,axes=ax3)\n",
    "ax3.axis('equal');\n",
    "\n",
    "fig3 = plt.figure(figsize=(16, 2.5))\n",
    "ax3 = fig3.add_subplot(111)\n",
    "ax3.set_xlabel('$x$', fontsize=16)\n",
    "ax3.set_ylabel('$y$', fontsize=16)\n",
    "ax3.set_title('FEM Navier-Stokes - channel flow - suspended2', fontsize=16)\n",
    "fd.plot(cs2,axes=ax3)\n",
    "ax3.axis('equal');\n",
    "\n",
    "fig3 = plt.figure(figsize=(16, 2.5))\n",
    "ax3 = fig3.add_subplot(111)\n",
    "ax3.set_xlabel('$x$', fontsize=16)\n",
    "ax3.set_ylabel('$y$', fontsize=16)\n",
    "ax3.set_title('FEM Navier-Stokes - channel flow - sediment2', fontsize=16)\n",
    "fd.plot(as2, axes=ax3)\n",
    "ax3.axis('equal');"
   ]
  },
  {
   "cell_type": "code",
   "execution_count": null,
   "metadata": {},
   "outputs": [],
   "source": [
    "solver.solve()"
   ]
  },
  {
   "cell_type": "code",
   "execution_count": null,
   "metadata": {},
   "outputs": [],
   "source": [
    "fig2 = plt.figure(figsize=(16, 2.5))\n",
    "ax2 = fig2.add_subplot(111)\n",
    "ax2.set_xlabel('$x$', fontsize=16)\n",
    "ax2.set_ylabel('$y$', fontsize=16)\n",
    "ax2.set_title('FEM Navier-Stokes - channel flow - pressure', fontsize=16)\n",
    "fd.plot(solver.form_args['p_'],axes=ax2)\n",
    "ax2.axis('equal')\n",
    "\n",
    "fig3 = plt.figure(figsize=(16, 2.5))\n",
    "ax3 = fig3.add_subplot(111)\n",
    "ax3.set_xlabel('$x$', fontsize=16)\n",
    "ax3.set_ylabel('$y$', fontsize=16)\n",
    "ax3.set_title('FEM Navier-Stokes - channel flow - velocity', fontsize=16)\n",
    "fd.plot(solver.form_args['u_'],axes=ax3)\n",
    "ax3.axis('equal');\n"
   ]
  },
  {
   "cell_type": "code",
   "execution_count": null,
   "metadata": {},
   "outputs": [],
   "source": [
    "cd1, cd2 = solver.form_args['cd_n'].split()\n",
    "cs1, cs2 = solver.form_args['cs_'].split()\n",
    "as1, as2 = solver.form_args['as_'].split()\n",
    "\n",
    "fig3 = plt.figure(figsize=(16, 2.5))\n",
    "ax3 = fig3.add_subplot(111)\n",
    "ax3.set_xlabel('$x$', fontsize=16)\n",
    "ax3.set_ylabel('$y$', fontsize=16)\n",
    "ax3.set_title('FEM Navier-Stokes - channel flow - dissolved1', fontsize=16)\n",
    "fd.plot(cd1,axes=ax3)\n",
    "ax3.axis('equal');\n",
    "\n",
    "fig3 = plt.figure(figsize=(16, 2.5))\n",
    "ax3 = fig3.add_subplot(111)\n",
    "ax3.set_xlabel('$x$', fontsize=16)\n",
    "ax3.set_ylabel('$y$', fontsize=16)\n",
    "ax3.set_title('FEM Navier-Stokes - channel flow - suspended1', fontsize=16)\n",
    "fd.plot(cs1,axes=ax3)\n",
    "ax3.axis('equal');\n",
    "\n",
    "fig3 = plt.figure(figsize=(16, 2.5))\n",
    "ax3 = fig3.add_subplot(111)\n",
    "ax3.set_xlabel('$x$', fontsize=16)\n",
    "ax3.set_ylabel('$y$', fontsize=16)\n",
    "ax3.set_title('FEM Navier-Stokes - channel flow - sediment1', fontsize=16)\n",
    "fd.plot(as1,axes=ax3)\n",
    "ax3.axis('equal');\n",
    "\n",
    "fig3 = plt.figure(figsize=(16, 2.5))\n",
    "ax3 = fig3.add_subplot(111)\n",
    "ax3.set_xlabel('$x$', fontsize=16)\n",
    "ax3.set_ylabel('$y$', fontsize=16)\n",
    "ax3.set_title('FEM Navier-Stokes - channel flow - dissolved2', fontsize=16)\n",
    "fd.plot(cd2,axes=ax3)\n",
    "ax3.axis('equal');\n",
    "\n",
    "fig3 = plt.figure(figsize=(16, 2.5))\n",
    "ax3 = fig3.add_subplot(111)\n",
    "ax3.set_xlabel('$x$', fontsize=16)\n",
    "ax3.set_ylabel('$y$', fontsize=16)\n",
    "ax3.set_title('FEM Navier-Stokes - channel flow - suspended2', fontsize=16)\n",
    "fd.plot(cs2,axes=ax3)\n",
    "ax3.axis('equal');\n",
    "\n",
    "fig3 = plt.figure(figsize=(16, 2.5))\n",
    "ax3 = fig3.add_subplot(111)\n",
    "ax3.set_xlabel('$x$', fontsize=16)\n",
    "ax3.set_ylabel('$y$', fontsize=16)\n",
    "ax3.set_title('FEM Navier-Stokes - channel flow - sediment2', fontsize=16)\n",
    "fd.plot(as2, axes=ax3)\n",
    "ax3.axis('equal');"
   ]
  },
  {
   "cell_type": "code",
   "execution_count": null,
   "metadata": {},
   "outputs": [],
   "source": [
    "x = as1.\n",
    "print((x.array().shape))"
   ]
  },
  {
   "cell_type": "code",
   "execution_count": null,
   "metadata": {},
   "outputs": [],
   "source": [
    "fd.plot?"
   ]
  },
  {
   "cell_type": "code",
   "execution_count": null,
   "metadata": {},
   "outputs": [],
   "source": [
    "mesh = fd.Mesh(\"../meshes/step.msh\")\n",
    "\n",
    "x, y = fd.SpatialCoordinate(mesh)\n",
    "W = fd.FunctionSpace(mesh, 'CG', 1)\n",
    "H = fd.MixedFunctionSpace([W, W, W])\n",
    "\n",
    "\n",
    "c = fd.conditional(pow(x-1, 2)+pow(y-1.5,2)<0.05*0.05, 10, 0)\n",
    "u = fd.Function(H)\n",
    "u_split = [] * H.num_sub_spaces()\n",
    "print(u_split)\n",
    "u_split = fd.split(u)\n",
    "print(u_split)\n",
    "print(type(u1))\n",
    "# u.interpolate((fd.Constant(0), fd.Constant(0)))\n",
    "# u1 = fd.interpolate(c, H[0])\n",
    "print(type(u1))\n",
    "u_split = u.split()\n",
    "print(u_split)\n",
    "print(type(u1))\n",
    "u_split[0].interpolate(c)\n",
    "fig3 = plt.figure(figsize=(16, 2.5))\n",
    "ax3 = fig3.add_subplot(111)\n",
    "ax3.set_xlabel('$x$', fontsize=16)\n",
    "ax3.set_ylabel('$y$', fontsize=16)\n",
    "ax3.set_title('FEM Navier-Stokes - channel flow - dissolved1', fontsize=16)\n",
    "fd.plot(u_split[0], axes=ax3)\n",
    "ax3.axis('equal');"
   ]
  },
  {
   "cell_type": "code",
   "execution_count": null,
   "metadata": {},
   "outputs": [],
   "source": [
    "print(H.num_sub_spaces())"
   ]
  },
  {
   "cell_type": "code",
   "execution_count": null,
   "metadata": {},
   "outputs": [],
   "source": [
    "fd.plot?"
   ]
  },
  {
   "cell_type": "code",
   "execution_count": null,
   "metadata": {},
   "outputs": [],
   "source": [
    "x, y = fd.SpatialCoordinate(mesh)"
   ]
  },
  {
   "cell_type": "code",
   "execution_count": null,
   "metadata": {},
   "outputs": [],
   "source": [
    "fd.Expression?"
   ]
  },
  {
   "cell_type": "code",
   "execution_count": null,
   "metadata": {},
   "outputs": [],
   "source": [
    "\n",
    "mesh = fd.Mesh(\"../meshes/step.msh\")\n",
    "t = fd.Constant(0.5)\n",
    "W = fd.FunctionSpace(mesh, 'CG', 1)\n",
    "x, y = fd.SpatialCoordinate(W.mesh())\n",
    "L = fd.interpolate(fd.sin(x*t), W)\n",
    "print(x, y)\n",
    "fd.plot(L)"
   ]
  },
  {
   "cell_type": "code",
   "execution_count": null,
   "metadata": {},
   "outputs": [],
   "source": [
    "import sympy as sym\n",
    "X, Y = sym.symbols('X, Y')\n",
    "u = sym.sin(X) + sym.cos(Y)\n",
    "\n",
    "u_ = u.subs([(X, x), (Y, y), (sym.sin, fd.sin), (sym.cos, fd.cos)])\n",
    "L = fd.interpolate(u_, W)"
   ]
  },
  {
   "cell_type": "code",
   "execution_count": null,
   "metadata": {},
   "outputs": [],
   "source": [
    "expr = sym.cos(X) + 1\n",
    "print(expr)\n",
    "expr.subs(X, Y)\n"
   ]
  },
  {
   "cell_type": "code",
   "execution_count": null,
   "metadata": {},
   "outputs": [],
   "source": [
    "fd.subs?"
   ]
  },
  {
   "cell_type": "code",
   "execution_count": null,
   "metadata": {},
   "outputs": [],
   "source": [
    "fd.errornorm?"
   ]
  },
  {
   "cell_type": "code",
   "execution_count": null,
   "metadata": {},
   "outputs": [],
   "source": [
    "# Create mesh and define function space\n",
    "mesh = fd.UnitSquareMesh(256, 256)\n",
    "V = fd.FunctionSpace(mesh, 'CG', 1)\n",
    "\n",
    "x, y = fd.SpatialCoordinate(mesh)\n",
    "# Define boundary condition\n",
    "# u_D = Expression('1 + x[0]*x[0] + 2*x[1]*x[1]', degree=2)\n",
    "\n",
    "\n",
    "bc = fd.DirichletBC(V, 1+x**3+2*y**3, 'on_boundary')\n",
    "\n",
    "# Define variational problem\n",
    "u = fd.TrialFunction(V)\n",
    "v = fd.TestFunction(V)\n",
    "f = -6*x - 12*y\n",
    "a = fd.dot(fd.grad(u), fd.grad(v))*fd.dx\n",
    "L = f*v*fd.dx\n",
    "\n",
    "# Compute solution\n",
    "u = fd.Function(V)\n",
    "fd.solve(a == L, u, bc)\n",
    "\n",
    "# Plot solution and mesh\n",
    "fd.plot(u)\n",
    "fd.plot(mesh)\n",
    "\n",
    "u_exact = fd.interpolate(1+x**3+2*y**3, V)\n",
    "fd.plot(u_exact)\n",
    "error_L2 = fd.errornorm(u_exact, u, 'L2') / fd.sqrt(mesh.num_vertices())\n",
    "print(error_L2)\n",
    "\n",
    "# # Compute maximum error at vertices\n",
    "# vertex_values_u_D = u_D.compute_vertex_values(mesh)\n",
    "# vertex_values_u = u.compute_vertex_values(mesh)\n",
    "# import numpy as np\n",
    "# error_max = np.max(np.abs(vertex_values_u_D - vertex_values_u))\n",
    "\n",
    "# # Print errors\n",
    "# print('error_L2  =', error_L2)\n",
    "# print('error_max =', error_max)\n",
    "\n",
    "# # Hold plot\n",
    "# interactive()\n"
   ]
  },
  {
   "cell_type": "code",
   "execution_count": null,
   "metadata": {},
   "outputs": [],
   "source": [
    "# Create mesh and define function space\n",
    "mesh = fd.UnitSquareMesh(5, 5)\n",
    "x, y = fd.SpatialCoordinate(mesh)\n",
    "\n",
    "V = fd.VectorFunctionSpace(mesh, 'CG', 2)\n",
    "\n",
    "u_exact = fd.interpolate(fd.as_vector((4*y*(1-y), 0)), V)\n",
    "\n",
    "fd.plot(mesh)\n",
    "fd.plot(u_exact)\n"
   ]
  },
  {
   "cell_type": "code",
   "execution_count": null,
   "metadata": {},
   "outputs": [],
   "source": [
    "mesh_h = fd.MeshHierarchy(mesh, 5, 1)\n",
    "for i in mesh_h:\n",
    "    print(i.num_vertices())"
   ]
  },
  {
   "cell_type": "code",
   "execution_count": null,
   "metadata": {},
   "outputs": [],
   "source": [
    "fd.MeshHierarchy?\n"
   ]
  },
  {
   "cell_type": "code",
   "execution_count": null,
   "metadata": {},
   "outputs": [],
   "source": [
    "u = fd.Function(V)"
   ]
  },
  {
   "cell_type": "code",
   "execution_count": null,
   "metadata": {},
   "outputs": [],
   "source": [
    "print(len(u.vector().array()))\n",
    "print(len(u_exact.vector().array()))"
   ]
  },
  {
   "cell_type": "code",
   "execution_count": null,
   "metadata": {},
   "outputs": [],
   "source": [
    "import scipy.linalg as sl"
   ]
  },
  {
   "cell_type": "code",
   "execution_count": null,
   "metadata": {},
   "outputs": [],
   "source": [
    "import numpy as np"
   ]
  },
  {
   "cell_type": "code",
   "execution_count": null,
   "metadata": {},
   "outputs": [],
   "source": [
    "print(np.linalg.norm(u.vector().array() - u_exact.vector().array()))"
   ]
  },
  {
   "cell_type": "code",
   "execution_count": null,
   "metadata": {},
   "outputs": [],
   "source": [
    "# Create mesh and define function space\n",
    "mesh = fd.UnitSquareMesh(4, 4)\n",
    "V = fd.FunctionSpace(mesh, 'CG', 1)\n",
    "Q = fd.VectorFunctionSpace(mesh, 'CG', 2)\n",
    "\n",
    "\n",
    "x, y = fd.SpatialCoordinate(mesh)\n",
    "\n",
    "t = 0\n",
    "\n",
    "bc = fd.DirichletBC(V, 1+x**3+2*y**3+t, 'on_boundary')\n",
    "\n",
    "# Define variational problem\n",
    "u = fd.TrialFunction(V)\n",
    "v = fd.TestFunction(V)\n",
    "f = -6*x - 12*y\n",
    "a = fd.dot(fd.grad(u), fd.grad(v))*fd.dx\n",
    "L = f*v*fd.dx\n",
    "u = fd.Function(V)\n",
    "\n",
    "W = fd.TrialFunction(Q)\n",
    "Z = fd.TestFunction(Q)\n",
    "w = fd.Function(Q)\n",
    "\n",
    "while i < 5:\n",
    "    # Compute solution\n",
    "    fd.solve(a == L, u, bc)\n",
    "    t += 1\n",
    "    # Plot solution and mesh\n",
    "fd.plot(u)\n"
   ]
  },
  {
   "cell_type": "code",
   "execution_count": null,
   "metadata": {},
   "outputs": [],
   "source": [
    "form = fd.dot(W, fd.as_vector((3*x**2, 6*y**3)))*fd.dx"
   ]
  },
  {
   "cell_type": "code",
   "execution_count": null,
   "metadata": {},
   "outputs": [],
   "source": [
    "mesh = fd.UnitSquareMesh(4, 4)\n",
    "Q = fd.FunctionSpace(mesh, 'CG', 1)\n",
    "\n",
    "x, y = fd.SpatialCoordinate(mesh)\n",
    "\n",
    "t = 0\n",
    "alpha = fd.Constant(5) # constant \n",
    "lamb = fd.Constant(0.1) #half life\n",
    "dt = fd.Constant(0.01)\n",
    "\n",
    "bc = fd.DirichletBC(V, 1+x**3+2*y**3+alpha*t, 'on_boundary')\n",
    "\n",
    "# Define variational problem\n",
    "u = fd.TrialFunction(Q)\n",
    "v = fd.TestFunction(Q)\n",
    "c_n = fd.Function(Q)\n",
    "c_ = fd.Function(Q)\n",
    "\n",
    "# source = alpha + - (1 + x**2 + y**2 + alpha*t) #manufactured source term\n",
    "source = fd.Constant(0)\n",
    " \n",
    "Form = ((u - c_n) / dt)*v*fd.dx + lamb*c_n*v*fd.dx - source*v*fd.dx\n",
    "a, L = fd.system(Form)\n",
    "\n",
    "problem = fd.LinearVariationalProblem(a, L, c_, bcs=bc)\n",
    "solver = fd.LinearVariationalSolver(problem)\n",
    "\n",
    "tend = 10\n",
    "while t < tend:\n",
    "    # Compute solution\n",
    "    solver.solve()\n",
    "    c_n.assign(c_)\n",
    "    t += 1\n",
    "    # Plot solution and mesh\n",
    "fd.plot(c)"
   ]
  },
  {
   "cell_type": "code",
   "execution_count": null,
   "metadata": {
    "scrolled": true
   },
   "outputs": [],
   "source": [
    "mesh = fd.UnitSquareMesh(16, 16)\n",
    "Q = fd.FunctionSpace(mesh, 'CG', 1)\n",
    "\n",
    "x, y = fd.SpatialCoordinate(mesh)\n",
    "\n",
    "t=0\n",
    "dt = 0.001\n",
    "\n",
    "time = fd.Constant(t)\n",
    "alpha = fd.Constant(5) # constant \n",
    "lamb = fd.Constant(0.5) #half life\n",
    "k = fd.Constant(dt) #time step\n",
    "eps = fd.Constant(0.0001) #\n",
    "\n",
    "c = 1 + x**3 + 2*y**3 + alpha*time\n",
    "# c = alpha*time\n",
    "\n",
    "\n",
    "\n",
    "# Define variational problem\n",
    "u = fd.TrialFunction(Q)\n",
    "v = fd.TestFunction(Q)\n",
    "c_n = fd.Function(Q)\n",
    "c_ = fd.Function(Q)\n",
    "\n",
    "source = alpha  + lamb*c - eps*(6*x+12*y)#manufactured source term\n",
    "c_n.interpolate(c)\n",
    "fd.plot(c_n)\n",
    "Form = ((u - c_n) / dt)*v*fd.dx + lamb*c_n*v*fd.dx \\\n",
    "        + eps*fd.inner(fd.nabla_grad(c_n), fd.nabla_grad(v))*fd.dx - source*v*fd.dx \n",
    "a, L = fd.system(Form)\n",
    "\n",
    "\n",
    "while t < 1:\n",
    "    bc = fd.DirichletBC(Q, c, 'on_boundary')\n",
    "    # Compute solution\n",
    "    fd.solve(a == L, c_, bcs=bc)\n",
    "    c_n.assign(c_)\n",
    "    t += dt\n",
    "    time.assign(t)\n",
    "# Plot solution and mesh\n",
    "fd.plot(c_n)\n",
    "\n",
    "u_exact = fd.Function(Q)\n",
    "u_exact.interpolate(c)\n",
    "fd.plot(u_exact)"
   ]
  },
  {
   "cell_type": "code",
   "execution_count": null,
   "metadata": {},
   "outputs": [],
   "source": [
    "print(fd.errornorm(u_exact, c_, 'L2'))"
   ]
  },
  {
   "cell_type": "code",
   "execution_count": null,
   "metadata": {},
   "outputs": [],
   "source": [
    "print(c)\n",
    "print(time)\n",
    "print(alpha)"
   ]
  },
  {
   "cell_type": "code",
   "execution_count": null,
   "metadata": {},
   "outputs": [],
   "source": [
    "fd.plot(mesh)\n",
    "u_exact.dat.data"
   ]
  },
  {
   "cell_type": "code",
   "execution_count": 97,
   "metadata": {},
   "outputs": [
    {
     "name": "stdout",
     "output_type": "stream",
     "text": [
      "exp(w_{190582} * x[0] * x[1])\n"
     ]
    },
    {
     "data": {
      "text/plain": [
       "<matplotlib.axes._subplots.AxesSubplot at 0x7fe98043da58>"
      ]
     },
     "execution_count": 97,
     "metadata": {},
     "output_type": "execute_result"
    },
    {
     "data": {
      "image/png": "[encoded data removed]",
      "text/plain": [
       "<Figure size 432x288 with 2 Axes>"
      ]
     },
     "metadata": {
      "needs_background": "light"
     },
     "output_type": "display_data"
    },
    {
     "data": {
      "image/png": "[encoded data removed]",
      "text/plain": [
       "<Figure size 432x288 with 2 Axes>"
      ]
     },
     "metadata": {
      "needs_background": "light"
     },
     "output_type": "display_data"
    }
   ],
   "source": [
    "mesh = fd.UnitSquareMesh(4, 4)\n",
    "Q = fd.FunctionSpace(mesh, 'CG', 1)\n",
    "\n",
    "x, y = fd.SpatialCoordinate(mesh)\n",
    "\n",
    "alpha = fd.Constant(3)\n",
    "beta = fd.Constant(1.2)\n",
    "\n",
    "t0 = 0\n",
    "t = fd.Constant(t0)\n",
    "T0 = fd.exp(x*y*t)\n",
    "print(T0)\n",
    "\n",
    "T_n = fd.interpolate(T0, Q)\n",
    "T = fd.TrialFunction(Q)\n",
    "v = fd.TestFunction(Q)\n",
    "f = x*y - (y*t)**2 - (x*t)**2\n",
    "dt = 0.1\n",
    "k = fd.Constant(dt)\n",
    "bc = fd.DirichletBC(Q, T0, 'on_boundary')\n",
    "\n",
    "\n",
    "\n",
    "F = T*v*fd.dx + k*fd.dot(fd.nabla_grad(T), fd.nabla_grad(v))*fd.dx - (T_n + k * f)*v*fd.dx\n",
    "a, L = fd.system(F)\n",
    "\n",
    "T_ = fd.Function(Q)\n",
    "\n",
    "while t0 < 1:\n",
    "    \n",
    "    fd.solve(a == L, T_, bcs=[bc])\n",
    "    \n",
    "    T_n.assign(T_)\n",
    "    t0 += dt\n",
    "    t.assign(t0)\n",
    "#     bc = fd.DirichletBC(Q, T0, 'on_boundary')\n",
    "\n",
    "    \n",
    "fd.plot(T_)\n",
    "T_exact = fd.interpolate(T0, Q)\n",
    "fd.plot(T_exact)\n"
   ]
  },
  {
   "cell_type": "code",
   "execution_count": 56,
   "metadata": {},
   "outputs": [
    {
     "name": "stdout",
     "output_type": "stream",
     "text": [
      "<firedrake.bcs.DirichletBC object at 0x7fe9804860b8>\n",
      "<firedrake.bcs.DirichletBC object at 0x7fe9b09f7b00>\n",
      "[<firedrake.bcs.DirichletBC object at 0x7fe9b09f7b00>]\n",
      "[<firedrake.bcs.DirichletBC object at 0x7fe9b09f7b00>]\n",
      "[]\n",
      "exp(w_{150121} * x[0] * x[1])\n",
      "[Exp(Product(Constant(FiniteElement('Real', None, 0), 150121), Product(Indexed(SpatialCoordinate(Mesh(VectorElement(FiniteElement('Lagrange', triangle, 1), dim=2), 60046)), MultiIndex((FixedIndex(0),))), Indexed(SpatialCoordinate(Mesh(VectorElement(FiniteElement('Lagrange', triangle, 1), dim=2), 60046)), MultiIndex((FixedIndex(1),))))))]\n"
     ]
    }
   ],
   "source": [
    "print(bc)\n",
    "bc = fd.DirichletBC(Q, T0, 'on_boundary')\n",
    "print(bc)\n",
    "bc2 = {'1': [bc]}\n",
    "bc3 = bc2\n",
    "print(bc2['1'])\n",
    "print(bc3['1'])\n",
    "bc3['1'].pop()\n",
    "print(bc3['1'])\n",
    "print(T0)\n",
    "x = []\n",
    "x = [T0]\n",
    "print(x)"
   ]
  },
  {
   "cell_type": "code",
   "execution_count": null,
   "metadata": {},
   "outputs": [],
   "source": [
    "print(T_exact.dat.data)"
   ]
  },
  {
   "cell_type": "code",
   "execution_count": null,
   "metadata": {},
   "outputs": [],
   "source": [
    "bc = {'up' : ([1, 2], ['update', 'fixed']), 'abc' : ([3, 6], ['fixed', 'fixed'])}\n"
   ]
  },
  {
   "cell_type": "code",
   "execution_count": null,
   "metadata": {},
   "outputs": [],
   "source": [
    "for key, value in bc.items():\n",
    "    print(key)\n",
    "    print(value)\n",
    "    print(len(value[0]))\n",
    "    for i in range(len(value[0])):\n",
    "        if value[1][i] is 'update':\n",
    "            value[0][i] *= 2\n",
    "\n",
    "print(bc)"
   ]
  },
  {
   "cell_type": "code",
   "execution_count": 17,
   "metadata": {},
   "outputs": [],
   "source": [
    "x = ((1, 2, 3), ((1,4), 2, 3))"
   ]
  },
  {
   "cell_type": "code",
   "execution_count": 24,
   "metadata": {},
   "outputs": [
    {
     "name": "stdout",
     "output_type": "stream",
     "text": [
      "2\n"
     ]
    }
   ],
   "source": [
    "print(x[0][1])"
   ]
  },
  {
   "cell_type": "code",
   "execution_count": 66,
   "metadata": {},
   "outputs": [
    {
     "name": "stdout",
     "output_type": "stream",
     "text": [
      "{'up': {'u': ([], []), 'p': ([], [])}, 'c': {'c': ([], [])}}\n"
     ]
    }
   ],
   "source": [
    "system_names = ['up']\n",
    "names = ['u', 'p']\n",
    "bound={}\n",
    "bound = dict((name1,   dict((name2, ([], [])) for name2 in names)) for name1 in system_names)\n",
    "bound.update([('c', {'c': ([], [])})])\n",
    "print(bound)"
   ]
  },
  {
   "cell_type": "code",
   "execution_count": 84,
   "metadata": {},
   "outputs": [
    {
     "name": "stdout",
     "output_type": "stream",
     "text": [
      "3\n"
     ]
    }
   ],
   "source": [
    "bc_exp = ((0, 0, 0), ((1,2),2, 3))\n",
    "for \n"
   ]
  },
  {
   "cell_type": "code",
   "execution_count": 78,
   "metadata": {},
   "outputs": [
    {
     "name": "stdout",
     "output_type": "stream",
     "text": [
      "yes\n",
      "yes\n"
     ]
    }
   ],
   "source": [
    "names = ['u', 'p', 'k']\n",
    "\n",
    "\n",
    "\n",
    "for name in names:\n",
    "    for key in bound:\n",
    "        if name in bound[key]:\n",
    "            print('yes')\n",
    "    "
   ]
  },
  {
   "cell_type": "code",
   "execution_count": 40,
   "metadata": {},
   "outputs": [],
   "source": [
    "asdf = {}\n",
    "for key, value in bound['up'].items():\n",
    "    asdf.update([(key, value[0])])"
   ]
  },
  {
   "cell_type": "code",
   "execution_count": 91,
   "metadata": {},
   "outputs": [],
   "source": [
    "fd.DirichletBC.reconstruct?"
   ]
  },
  {
   "cell_type": "code",
   "execution_count": null,
   "metadata": {},
   "outputs": [],
   "source": []
  }
 ],
 "metadata": {
  "kernelspec": {
   "display_name": "Python 3",
   "language": "python",
   "name": "python3"
  },
  "language_info": {
   "codemirror_mode": {
    "name": "ipython",
    "version": 3
   },
   "file_extension": ".py",
   "mimetype": "text/x-python",
   "name": "python",
   "nbconvert_exporter": "python",
   "pygments_lexer": "ipython3",
   "version": "3.6.8"
  }
 },
 "nbformat": 4,
 "nbformat_minor": 2
}
