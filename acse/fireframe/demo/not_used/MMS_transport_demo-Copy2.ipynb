{
 "cells": [
  {
   "cell_type": "markdown",
   "metadata": {},
   "source": [
    "## author: Keer Mei\n",
    "- github: kmei92\n",
    "- email: keer.mei18@imperial.ac.uk"
   ]
  },
  {
   "cell_type": "markdown",
   "metadata": {},
   "source": [
    "# Setup"
   ]
  },
  {
   "cell_type": "code",
   "execution_count": 1,
   "metadata": {},
   "outputs": [],
   "source": [
    "# importing the necessary modules\n",
    "import sys\n",
    "sys.path.append(\"..\")\n",
    "from PDESystem import *\n",
    "from PDESubsystem import *\n",
    "from pdeforms import *\n",
    "\n",
    "%load_ext autoreload\n",
    "%autoreload 2"
   ]
  },
  {
   "cell_type": "code",
   "execution_count": 2,
   "metadata": {},
   "outputs": [],
   "source": [
    "# a PDESystem child class called PDESolver. Note, the setup_constants function and setup_bcs are declared\n",
    "# and overloaded here and the PDESystem's functions are not used. This is designed for clarity\n",
    "class pde_solver(PDESystem):\n",
    "    def __init__(self, comp, mesh, parameters):\n",
    "        PDESystem.__init__(self, comp, mesh, parameters)\n",
    "\n",
    "    def setup_bcs(self):\n",
    "        x, y = fd.SpatialCoordinate(self.mesh)\n",
    "        c0 = fd.exp(x*y*self.t)\n",
    "        \n",
    "        bcu = [fd.DirichletBC(self.V['u'], fd.Constant((0,0)), (10, 12)), # top-bottom and cylinder\n",
    "          fd.DirichletBC(self.V['u'], ((1.0*(y - 1)*(2 - y))/(0.5**2) ,0), 9)] # inflow\n",
    "        bcp = [fd.DirichletBC(self.V['p'], fd.Constant(0), 11)]  # outflow\n",
    "        bcc1 = [fd.DirichletBC(self.V['cd'].sub(0), c0, 'on_boundary')]\n",
    "\n",
    "        self.bc['u'][0] = [bcu, None, None, None,'fixed']\n",
    "        self.bc['p'] = [[bcp, None, None, None, 'fixed']]\n",
    "        self.bc['cd'][0] = [bcc1, c0, 'on_boundary', 0, 'update']\n",
    "\n",
    "    def setup_constants(self):\n",
    "        x, y = fd.SpatialCoordinate(self.mesh)\n",
    "        \n",
    "        self.constants = {\n",
    "            'k' : fd.Constant(self.prm['dt']),\n",
    "            'Kd' : fd.Constant(0.01),\n",
    "            'k1' : fd.Constant(0.5),\n",
    "            'k2' : fd.Constant(0.01),\n",
    "            'lamd1' : fd.Constant(1.5),\n",
    "            'lamd2' : fd.Constant(0.),\n",
    "            'rho_s' : fd.Constant(1.),\n",
    "            'L' :  fd.Constant(1.),\n",
    "            'phi' : fd.Constant(0.3),\n",
    "            'n' : fd.FacetNormal(self.mesh),\n",
    "            'f' : fd.Constant((0.0, 0.0)),\n",
    "            'nu' : fd.Constant(0.001),\n",
    "            'frac' : fd.Constant(1.)\n",
    "        }"
   ]
  },
  {
   "cell_type": "markdown",
   "metadata": {},
   "source": [
    "# MMS Code Verification"
   ]
  },
  {
   "cell_type": "markdown",
   "metadata": {},
   "source": [
    "## Spatial discretization"
   ]
  },
  {
   "cell_type": "code",
   "execution_count": 6,
   "metadata": {},
   "outputs": [
    {
     "name": "stdout",
     "output_type": "stream",
     "text": [
      "time = 1.000\n",
      "time = 2.000\n",
      "time = 1.000\n",
      "time = 2.000\n",
      "time = 1.000\n",
      "time = 2.000\n",
      "time = 1.000\n",
      "time = 2.000\n",
      "time = 1.000\n",
      "time = 2.000\n",
      "time = 1.000\n",
      "time = 2.000\n",
      "time = 1.000\n",
      "time = 2.000\n",
      "time = 1.000\n",
      "time = 2.000\n"
     ]
    },
    {
     "data": {
      "image/png": "[encoded data removed]",
      "text/plain": [
       "<Figure size 576x576 with 1 Axes>"
      ]
     },
     "metadata": {
      "needs_background": "light"
     },
     "output_type": "display_data"
    }
   ],
   "source": [
    "import sympy as sy\n",
    "\n",
    "solver_parameters = recursive_update(solver_parameters,\n",
    "{\n",
    "'space': {'u': fd.VectorFunctionSpace, 'cs': fd.MixedFunctionSpace, 'cd' : fd.MixedFunctionSpace, 'as' : fd.MixedFunctionSpace},\n",
    "'degree': {'u': 2, 'p': 1, 'cs': 1, 'cd' : 1, 'as' : 1},\n",
    "'order' : {'u': 1, 'p': 1, 'cs' : 2, 'cd' : 2, 'as' : 2},\n",
    "'linear_solver': {'u': 'gmres', 'p': 'gmres', 'cs': 'gmres', 'cd': 'gmres', 'as': 'gmres'},\n",
    "'subsystem_class' : {'up': navier_stokes, 'cdcsas' : radio_transport_mms},\n",
    "'precond': {'u': 'sor', 'p' : 'sor', 'cs': 'sor', 'cd': 'sor', 'as': 'sor'},\n",
    "'dt' : 0.001,\n",
    "'T': 2.0\n",
    "}\n",
    ")\n",
    "mesh = fd.Mesh(\"../../meshes/step1.msh\")\n",
    "# add subsystems\n",
    "solver = pde_solver([['u', 'p']], mesh, solver_parameters)\n",
    "solver.add_subsystem(['cd', 'cs', 'as'], solver_parameters)\n",
    "#setup system and define subsystems\n",
    "solver.setup_constants()\n",
    "solver.define(['u', 'p', 'u'], 'up', navier_stokes)\n",
    "solver.define(['cd', 'cs', 'as'], 'cdcsas', radio_transport_mms)\n",
    "solver.setup_bcs()\n",
    "\n",
    "x, y, t = sy.symbols(('x', 'y', 't'))\n",
    "expr = sy.exp(x*y*t)\n",
    "meshes = [fd.Mesh(\"../../meshes/step%d.msh\" % i) for i in range(1, 9)]\n",
    "solver.test_mms('cd', expr, spatial=True, f_dict={\"exp\":fd.exp}, meshes=meshes, plot=True, index=0)\n"
   ]
  },
  {
   "cell_type": "markdown",
   "metadata": {},
   "source": [
    "## Temporal discretization"
   ]
  },
  {
   "cell_type": "code",
   "execution_count": 39,
   "metadata": {},
   "outputs": [
    {
     "name": "stdout",
     "output_type": "stream",
     "text": [
      "0.01\n",
      "0.005\n",
      "0.0025\n",
      "0.00125\n",
      "0.000625\n",
      "0.0003125\n",
      "0.00015625\n",
      "7.8125e-05\n"
     ]
    }
   ],
   "source": [
    "import sympy as sy\n",
    "\n",
    "solver_parameters = recursive_update(solver_parameters,\n",
    "{\n",
    "'space': {'u': fd.VectorFunctionSpace, 'cs': fd.MixedFunctionSpace, 'cd' : fd.MixedFunctionSpace, 'as' : fd.MixedFunctionSpace},\n",
    "'degree': {'u': 2, 'p': 1, 'cs': 1, 'cd' : 1, 'as' : 1},\n",
    "'order' : {'u': 1, 'p': 1, 'cs' : 2, 'cd' : 2, 'as' : 2, 'cdcsas' : 2},\n",
    "'linear_solver': {'u': 'gmres', 'p': 'gmres', 'cs': 'gmres', 'cd': 'gmres', 'as': 'gmres'},\n",
    "'subsystem_class' : {'up': navier_stokes, 'cdcsas' : radio_transport_mms},\n",
    "'precond': {'u': 'sor', 'p' : 'sor', 'cs': 'sor', 'cd': 'sor', 'as': 'sor'},\n",
    "'dt' : 0.01,\n",
    "'T': 0.1}\n",
    ")\n",
    "\n",
    "mesh = fd.Mesh(\"../../meshes/step1.msh\")\n",
    "\n",
    "deltat = [0.01 / (2**i) for i in range(8)]\n",
    "\n",
    "# create solver and add systems\n",
    "solver = pde_solver([['u', 'p']], mesh, solver_parameters)\n",
    "solver.add_subsystem(['cd', 'cs', 'as'], solver_parameters)\n",
    "#setup system and define subsystems\n",
    "solver.setup_constants()\n",
    "solver.define(['u', 'p', 'u'], 'up')\n",
    "solver.define(['cd', 'cs', 'as'], 'cdcsas')\n",
    "solver.setup_bcs()\n",
    "\n",
    "x, y, t = sy.symbols(('x', 'y', 't'))\n",
    "expr = sy.exp(x*y*t)\n",
    "solver.test_mms('cd', expr, temporal=True, f_dict={\"exp\":fd.exp}, dt_list=deltat, plot=True, index=0)"
   ]
  }
 ],
 "metadata": {
  "kernelspec": {
   "display_name": "Python 3",
   "language": "python",
   "name": "python3"
  },
  "language_info": {
   "codemirror_mode": {
    "name": "ipython",
    "version": 3
   },
   "file_extension": ".py",
   "mimetype": "text/x-python",
   "name": "python",
   "nbconvert_exporter": "python",
   "pygments_lexer": "ipython3",
   "version": "3.6.8"
  }
 },
 "nbformat": 4,
 "nbformat_minor": 2
}
