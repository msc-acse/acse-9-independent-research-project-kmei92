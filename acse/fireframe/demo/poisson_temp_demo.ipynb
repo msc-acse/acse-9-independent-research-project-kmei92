{
 "cells": [
  {
   "cell_type": "markdown",
   "metadata": {},
   "source": [
    "## author: Keer Mei\n",
    "- github: kmei92\n",
    "- email: keer.mei18@imperial.ac.uk"
   ]
  },
  {
   "cell_type": "markdown",
   "metadata": {},
   "source": [
    "# Setup"
   ]
  },
  {
   "cell_type": "code",
   "execution_count": 1,
   "metadata": {},
   "outputs": [],
   "source": [
    "# importing the necessary modules\n",
    "import sys\n",
    "sys.path.append(\"..\")\n",
    "from PDESystem import *\n",
    "from PDESubsystem import *\n",
    "from pdeforms import *\n",
    "\n",
    "%load_ext autoreload\n",
    "%autoreload 2"
   ]
  },
  {
   "cell_type": "code",
   "execution_count": 2,
   "metadata": {},
   "outputs": [],
   "source": [
    "# a PDESystem child class called PDESolver. Note, the setup_constants function and setup_bcs are declared\n",
    "# and overloaded here and the PDESystem's functions are not used. This is designed for clarity\n",
    "class pde_solver(PDESystem):\n",
    "    def __init__(self, comp, mesh, parameters):\n",
    "        PDESystem.__init__(self, comp, mesh, parameters)\n",
    "\n",
    "    def setup_bcs(self):\n",
    "        x, y = fd.SpatialCoordinate(self.mesh)\n",
    "        T0 = fd.exp(x*y*self.t)\n",
    "        \n",
    "        bc = fd.DirichletBC(self.V['T'], T0, 'on_boundary')\n",
    "\n",
    "        self.bc['T'] = [[bc, T0, 'on_boundary', 0, 'update']]\n",
    "        \n",
    "    def setup_constants(self):\n",
    "        x, y = fd.SpatialCoordinate(self.mesh)\n",
    "        self.constants = {\n",
    "            'deltat' : fd.Constant(self.prm['dt']),\n",
    "            'source' : x*y - (y*self.t)**2 - (x*self.t)**2,\n",
    "            'eps' : fd.Constant(1),\n",
    "        }"
   ]
  },
  {
   "cell_type": "markdown",
   "metadata": {},
   "source": [
    "# Solve"
   ]
  },
  {
   "cell_type": "code",
   "execution_count": 3,
   "metadata": {},
   "outputs": [
    {
     "name": "stderr",
     "output_type": "stream",
     "text": [
      "UFL:WARNING Form has no parts with arity 2.\n"
     ]
    },
    {
     "name": "stdout",
     "output_type": "stream",
     "text": [
      "time = 1.000\n",
      "time = 2.000\n",
      "time = 3.000\n",
      "time = 4.000\n",
      "time = 5.000\n"
     ]
    }
   ],
   "source": [
    "# update the parameters\n",
    "solver_parameters = recursive_update(solver_parameters,\n",
    "{\n",
    "'space': {'T': fd.FunctionSpace},\n",
    "'degree': {'T': 1},\n",
    "'ksp_type': {'T': 'gmres'},\n",
    "'precond': {'T': 'sor', 'p' : 'sor'},\n",
    "'dt' : 0.1,\n",
    " 'T' : 5 }                         \n",
    ")\n",
    "\n",
    "# load the mesh\n",
    "mesh = fd.UnitSquareMesh(3, 3)\n",
    "# declare a new pde_solver object with a temperature variable\n",
    "solver = pde_solver([['T']], mesh, solver_parameters)\n",
    "# set up constants\n",
    "solver.setup_constants()\n",
    "#  define the pdesystems and variable sequence\n",
    "solver.define(['T'], 'T', temp_poisson)\n",
    "# setup boundary conditions\n",
    "solver.setup_bcs()\n",
    "# setup initial conditions\n",
    "x, y = fd.SpatialCoordinate(mesh)\n",
    "T0 = fd.exp(x*y*solver.t)\n",
    "solver.setup_initial('T_n', T0)\n",
    "# solve\n",
    "solver.solve(time_update=True)"
   ]
  },
  {
   "cell_type": "markdown",
   "metadata": {},
   "source": [
    "# Plotting"
   ]
  },
  {
   "cell_type": "code",
   "execution_count": 4,
   "metadata": {},
   "outputs": [
    {
     "data": {
      "text/plain": [
       "(-0.05, 1.05, -0.05, 1.05)"
      ]
     },
     "execution_count": 4,
     "metadata": {},
     "output_type": "execute_result"
    },
    {
     "data": {
      "image/png": "[encoded data removed]",
      "text/plain": [
       "<Figure size 432x288 with 2 Axes>"
      ]
     },
     "metadata": {
      "needs_background": "light"
     },
     "output_type": "display_data"
    }
   ],
   "source": [
    "fig1 = plt.figure()\n",
    "ax1 = fig1.add_subplot(111)\n",
    "ax1.set_xlabel('$x$', fontsize=16)\n",
    "ax1.set_ylabel('$y$', fontsize=16)\n",
    "ax1.set_title('FEM Navier-Stokes - poisson - temperature profile', fontsize=16)\n",
    "fd.plot(solver.form_args['T_n'],axes=ax1)\n",
    "ax1.axis('equal')"
   ]
  }
 ],
 "metadata": {
  "kernelspec": {
   "display_name": "Python 3",
   "language": "python",
   "name": "python3"
  },
  "language_info": {
   "codemirror_mode": {
    "name": "ipython",
    "version": 3
   },
   "file_extension": ".py",
   "mimetype": "text/x-python",
   "name": "python",
   "nbconvert_exporter": "python",
   "pygments_lexer": "ipython3",
   "version": "3.6.8"
  }
 },
 "nbformat": 4,
 "nbformat_minor": 2
}
