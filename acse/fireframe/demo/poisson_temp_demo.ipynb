{
 "cells": [
  {
   "cell_type": "markdown",
   "metadata": {},
   "source": [
    "# Setup"
   ]
  },
  {
   "cell_type": "code",
   "execution_count": 4,
   "metadata": {},
   "outputs": [
    {
     "name": "stdout",
     "output_type": "stream",
     "text": [
      "The autoreload extension is already loaded. To reload it, use:\n",
      "  %reload_ext autoreload\n"
     ]
    }
   ],
   "source": [
    "import sys\n",
    "sys.path.append(\"..\")\n",
    "from PDESystem import *\n",
    "from PDESubsystem import *\n",
    "from pdeforms import *\n",
    "\n",
    "%load_ext autoreload\n",
    "%autoreload 2\n",
    "\n",
    "class pde_solver(PDESystem):\n",
    "    def __init__(self, comp, mesh, parameters):\n",
    "        PDESystem.__init__(self, comp, mesh, parameters)\n",
    "\n",
    "    def setup_bcs(self):\n",
    "        x, y = fd.SpatialCoordinate(self.mesh)\n",
    "        T0 = fd.exp(x*y*self.t)\n",
    "        \n",
    "        bc = fd.DirichletBC(self.V['T'], T0, 'on_boundary')\n",
    "\n",
    "        self.bc['T'] = [[bc, T0, 'on_boundary', 0, 'update']]\n",
    "        \n",
    "    def setup_constants(self):\n",
    "        x, y = fd.SpatialCoordinate(self.mesh)\n",
    "        self.constants = {\n",
    "            'k' : fd.Constant(self.prm['dt']),\n",
    "            'source' : x*y - (y*self.t)**2 - (x*self.t)**2,\n",
    "            'eps' : fd.Constant(1),\n",
    "        }\n"
   ]
  },
  {
   "cell_type": "markdown",
   "metadata": {},
   "source": [
    "# Solve"
   ]
  },
  {
   "cell_type": "code",
   "execution_count": 9,
   "metadata": {},
   "outputs": [
    {
     "name": "stderr",
     "output_type": "stream",
     "text": [
      "UFL:WARNING Form has no parts with arity 2.\n"
     ]
    },
    {
     "name": "stdout",
     "output_type": "stream",
     "text": [
      "<class 'pdeforms.temp_poisson'>\n",
      "[None]\n",
      "['T']\n",
      "T 0\n",
      "updated boundaries for T\n",
      "updated boundaries for T\n",
      "updated boundaries for T\n",
      "updated boundaries for T\n",
      "updated boundaries for T\n",
      "updated boundaries for T\n",
      "updated boundaries for T\n",
      "updated boundaries for T\n",
      "updated boundaries for T\n",
      "updated boundaries for T\n",
      "time = 1.000\n",
      "updated boundaries for T\n"
     ]
    }
   ],
   "source": [
    "solver_parameters = recursive_update(solver_parameters,\n",
    "{\n",
    "'space': {'T': fd.FunctionSpace},\n",
    "'degree': {'T': 1},\n",
    "'type': {'T': 'gmres'},\n",
    "'subsystem_class' : {'T' : temp_poisson},\n",
    "'precond': {'T': 'sor', 'p' : 'sor'},\n",
    "'dt' : 0.1,\n",
    " 'T' : 1.0 }                         \n",
    ")\n",
    "\n",
    "mesh = fd.UnitSquareMesh(3, 3)\n",
    "solver = pde_solver([['T']], mesh, solver_parameters)\n",
    "solver.setup_constants()\n",
    "solver.define(['T'], 'T')\n",
    "solver.setup_bcs()\n",
    "x, y = fd.SpatialCoordinate(mesh)\n",
    "T0 = fd.exp(x*y*solver.t)\n",
    "solver.setup_initial('T_n', T0)\n",
    "solver.solve(time_update=True)"
   ]
  },
  {
   "cell_type": "markdown",
   "metadata": {},
   "source": [
    "# Plotting"
   ]
  },
  {
   "cell_type": "code",
   "execution_count": 6,
   "metadata": {},
   "outputs": [
    {
     "data": {
      "text/plain": [
       "(-0.05, 1.05, -0.05, 1.05)"
      ]
     },
     "execution_count": 6,
     "metadata": {},
     "output_type": "execute_result"
    },
    {
     "data": {
      "image/png": "[encoded data removed]",
      "text/plain": [
       "<Figure size 432x288 with 2 Axes>"
      ]
     },
     "metadata": {
      "needs_background": "light"
     },
     "output_type": "display_data"
    }
   ],
   "source": [
    "fig1 = plt.figure()\n",
    "ax1 = fig1.add_subplot(111)\n",
    "ax1.set_xlabel('$x$', fontsize=16)\n",
    "ax1.set_ylabel('$y$', fontsize=16)\n",
    "ax1.set_title('FEM Navier-Stokes - poisson - temperature profile', fontsize=16)\n",
    "fd.plot(solver.form_args['T_n'],axes=ax1)\n",
    "ax1.axis('equal')"
   ]
  },
  {
   "cell_type": "code",
   "execution_count": null,
   "metadata": {},
   "outputs": [],
   "source": []
  }
 ],
 "metadata": {
  "kernelspec": {
   "display_name": "Python 3",
   "language": "python",
   "name": "python3"
  },
  "language_info": {
   "codemirror_mode": {
    "name": "ipython",
    "version": 3
   },
   "file_extension": ".py",
   "mimetype": "text/x-python",
   "name": "python",
   "nbconvert_exporter": "python",
   "pygments_lexer": "ipython3",
   "version": "3.6.8"
  }
 },
 "nbformat": 4,
 "nbformat_minor": 2
}
